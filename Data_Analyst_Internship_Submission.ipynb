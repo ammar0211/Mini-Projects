{
  "nbformat": 4,
  "nbformat_minor": 0,
  "metadata": {
    "kernelspec": {
      "language": "python",
      "display_name": "Python 3",
      "name": "python3"
    },
    "language_info": {
      "pygments_lexer": "ipython3",
      "nbconvert_exporter": "python",
      "version": "3.6.4",
      "file_extension": ".py",
      "codemirror_mode": {
        "name": "ipython",
        "version": 3
      },
      "name": "python",
      "mimetype": "text/x-python"
    },
    "colab": {
      "name": "Data Analyst Internship Submission.ipynb",
      "provenance": [],
      "collapsed_sections": [],
      "include_colab_link": true
    }
  },
  "cells": [
    {
      "cell_type": "markdown",
      "metadata": {
        "id": "view-in-github",
        "colab_type": "text"
      },
      "source": [
        "<a href=\"https://colab.research.google.com/github/ammar0211/Mini-Projects/blob/master/Data_Analyst_Internship_Submission.ipynb\" target=\"_parent\"><img src=\"https://colab.research.google.com/assets/colab-badge.svg\" alt=\"Open In Colab\"/></a>"
      ]
    },
    {
      "cell_type": "markdown",
      "metadata": {
        "id": "t9ZGuRVBB6a4",
        "colab_type": "text"
      },
      "source": [
        "# RESTAURANT LIST"
      ]
    },
    {
      "cell_type": "markdown",
      "metadata": {
        "id": "X4wPsLGfJwSf",
        "colab_type": "text"
      },
      "source": [
        "INSTALLING LIBRARIES"
      ]
    },
    {
      "cell_type": "code",
      "metadata": {
        "id": "44q0rcwbLGfc",
        "colab_type": "code",
        "outputId": "c0f55382-81f8-40da-9402-d59cdc35b95a",
        "colab": {
          "base_uri": "https://localhost:8080/",
          "height": 193
        }
      },
      "source": [
        "pip install unicodecsv"
      ],
      "execution_count": 1,
      "outputs": [
        {
          "output_type": "stream",
          "text": [
            "Collecting unicodecsv\n",
            "  Downloading https://files.pythonhosted.org/packages/6f/a4/691ab63b17505a26096608cc309960b5a6bdf39e4ba1a793d5f9b1a53270/unicodecsv-0.14.1.tar.gz\n",
            "Building wheels for collected packages: unicodecsv\n",
            "  Building wheel for unicodecsv (setup.py) ... \u001b[?25l\u001b[?25hdone\n",
            "  Created wheel for unicodecsv: filename=unicodecsv-0.14.1-cp36-none-any.whl size=10767 sha256=28de67a16e7842d31bde81c1edf44d35fb7569098ee2058dec79a529c7ec6aa2\n",
            "  Stored in directory: /root/.cache/pip/wheels/a6/09/e9/e800279c98a0a8c94543f3de6c8a562f60e51363ed26e71283\n",
            "Successfully built unicodecsv\n",
            "Installing collected packages: unicodecsv\n",
            "Successfully installed unicodecsv-0.14.1\n"
          ],
          "name": "stdout"
        }
      ]
    },
    {
      "cell_type": "code",
      "metadata": {
        "_uuid": "d629ff2d2480ee46fbb7e2d37f6b5fab8052498a",
        "_cell_guid": "79c7e3d0-c299-4dcb-8224-4455121ee9b0",
        "trusted": true,
        "id": "0sq1ZcxXB6Z6",
        "colab_type": "code",
        "outputId": "b9438123-a3fb-464a-916e-57a6a790ddb3",
        "colab": {
          "base_uri": "https://localhost:8080/",
          "height": 1000
        }
      },
      "source": [
        "!pip install selenium\n",
        "!apt-get update # to update ubuntu to correctly run apt install\n",
        "!apt install chromium-chromedriver\n",
        "!cp /usr/lib/chromium-browser/chromedriver /usr/bin"
      ],
      "execution_count": 2,
      "outputs": [
        {
          "output_type": "stream",
          "text": [
            "Collecting selenium\n",
            "\u001b[?25l  Downloading https://files.pythonhosted.org/packages/80/d6/4294f0b4bce4de0abf13e17190289f9d0613b0a44e5dd6a7f5ca98459853/selenium-3.141.0-py2.py3-none-any.whl (904kB)\n",
            "\u001b[K     |████████████████████████████████| 911kB 4.8MB/s \n",
            "\u001b[?25hRequirement already satisfied: urllib3 in /usr/local/lib/python3.6/dist-packages (from selenium) (1.24.3)\n",
            "Installing collected packages: selenium\n",
            "Successfully installed selenium-3.141.0\n",
            "Get:1 https://cloud.r-project.org/bin/linux/ubuntu bionic-cran35/ InRelease [3,626 B]\n",
            "Ign:2 https://developer.download.nvidia.com/compute/cuda/repos/ubuntu1804/x86_64  InRelease\n",
            "Get:3 http://security.ubuntu.com/ubuntu bionic-security InRelease [88.7 kB]\n",
            "Ign:4 https://developer.download.nvidia.com/compute/machine-learning/repos/ubuntu1804/x86_64  InRelease\n",
            "Hit:5 https://developer.download.nvidia.com/compute/cuda/repos/ubuntu1804/x86_64  Release\n",
            "Hit:6 https://developer.download.nvidia.com/compute/machine-learning/repos/ubuntu1804/x86_64  Release\n",
            "Hit:7 http://ppa.launchpad.net/graphics-drivers/ppa/ubuntu bionic InRelease\n",
            "Hit:8 http://archive.ubuntu.com/ubuntu bionic InRelease\n",
            "Get:9 http://archive.ubuntu.com/ubuntu bionic-updates InRelease [88.7 kB]\n",
            "Get:11 http://ppa.launchpad.net/marutter/c2d4u3.5/ubuntu bionic InRelease [15.4 kB]\n",
            "Get:13 http://archive.ubuntu.com/ubuntu bionic-backports InRelease [74.6 kB]\n",
            "Get:14 http://security.ubuntu.com/ubuntu bionic-security/main amd64 Packages [739 kB]\n",
            "Get:15 http://security.ubuntu.com/ubuntu bionic-security/universe amd64 Packages [789 kB]\n",
            "Get:16 http://ppa.launchpad.net/marutter/c2d4u3.5/ubuntu bionic/main Sources [1,741 kB]\n",
            "Get:17 http://archive.ubuntu.com/ubuntu bionic-updates/multiverse amd64 Packages [9,549 B]\n",
            "Get:18 http://archive.ubuntu.com/ubuntu bionic-updates/universe amd64 Packages [1,316 kB]\n",
            "Get:19 http://archive.ubuntu.com/ubuntu bionic-updates/restricted amd64 Packages [29.9 kB]\n",
            "Get:20 http://archive.ubuntu.com/ubuntu bionic-updates/main amd64 Packages [1,035 kB]\n",
            "Get:21 http://ppa.launchpad.net/marutter/c2d4u3.5/ubuntu bionic/main amd64 Packages [840 kB]\n",
            "Fetched 6,771 kB in 4s (1,735 kB/s)\n",
            "Reading package lists... Done\n",
            "Reading package lists... Done\n",
            "Building dependency tree       \n",
            "Reading state information... Done\n",
            "The following package was automatically installed and is no longer required:\n",
            "  libnvidia-common-430\n",
            "Use 'apt autoremove' to remove it.\n",
            "The following additional packages will be installed:\n",
            "  chromium-browser chromium-browser-l10n chromium-codecs-ffmpeg-extra\n",
            "Suggested packages:\n",
            "  webaccounts-chromium-extension unity-chromium-extension adobe-flashplugin\n",
            "The following NEW packages will be installed:\n",
            "  chromium-browser chromium-browser-l10n chromium-chromedriver\n",
            "  chromium-codecs-ffmpeg-extra\n",
            "0 upgraded, 4 newly installed, 0 to remove and 71 not upgraded.\n",
            "Need to get 71.9 MB of archives.\n",
            "After this operation, 257 MB of additional disk space will be used.\n",
            "Get:1 http://archive.ubuntu.com/ubuntu bionic-updates/universe amd64 chromium-codecs-ffmpeg-extra amd64 78.0.3904.108-0ubuntu0.18.04.1 [1,078 kB]\n",
            "Get:2 http://archive.ubuntu.com/ubuntu bionic-updates/universe amd64 chromium-browser amd64 78.0.3904.108-0ubuntu0.18.04.1 [63.3 MB]\n",
            "Get:3 http://archive.ubuntu.com/ubuntu bionic-updates/universe amd64 chromium-browser-l10n all 78.0.3904.108-0ubuntu0.18.04.1 [3,076 kB]\n",
            "Get:4 http://archive.ubuntu.com/ubuntu bionic-updates/universe amd64 chromium-chromedriver amd64 78.0.3904.108-0ubuntu0.18.04.1 [4,466 kB]\n",
            "Fetched 71.9 MB in 5s (15.1 MB/s)\n",
            "Selecting previously unselected package chromium-codecs-ffmpeg-extra.\n",
            "(Reading database ... 145605 files and directories currently installed.)\n",
            "Preparing to unpack .../chromium-codecs-ffmpeg-extra_78.0.3904.108-0ubuntu0.18.04.1_amd64.deb ...\n",
            "Unpacking chromium-codecs-ffmpeg-extra (78.0.3904.108-0ubuntu0.18.04.1) ...\n",
            "Selecting previously unselected package chromium-browser.\n",
            "Preparing to unpack .../chromium-browser_78.0.3904.108-0ubuntu0.18.04.1_amd64.deb ...\n",
            "Unpacking chromium-browser (78.0.3904.108-0ubuntu0.18.04.1) ...\n",
            "Selecting previously unselected package chromium-browser-l10n.\n",
            "Preparing to unpack .../chromium-browser-l10n_78.0.3904.108-0ubuntu0.18.04.1_all.deb ...\n",
            "Unpacking chromium-browser-l10n (78.0.3904.108-0ubuntu0.18.04.1) ...\n",
            "Selecting previously unselected package chromium-chromedriver.\n",
            "Preparing to unpack .../chromium-chromedriver_78.0.3904.108-0ubuntu0.18.04.1_amd64.deb ...\n",
            "Unpacking chromium-chromedriver (78.0.3904.108-0ubuntu0.18.04.1) ...\n",
            "Processing triggers for mime-support (3.60ubuntu1) ...\n",
            "Setting up chromium-codecs-ffmpeg-extra (78.0.3904.108-0ubuntu0.18.04.1) ...\n",
            "Processing triggers for man-db (2.8.3-2ubuntu0.1) ...\n",
            "Processing triggers for hicolor-icon-theme (0.17-2) ...\n",
            "Setting up chromium-browser (78.0.3904.108-0ubuntu0.18.04.1) ...\n",
            "update-alternatives: using /usr/bin/chromium-browser to provide /usr/bin/x-www-browser (x-www-browser) in auto mode\n",
            "update-alternatives: using /usr/bin/chromium-browser to provide /usr/bin/gnome-www-browser (gnome-www-browser) in auto mode\n",
            "Setting up chromium-chromedriver (78.0.3904.108-0ubuntu0.18.04.1) ...\n",
            "Setting up chromium-browser-l10n (78.0.3904.108-0ubuntu0.18.04.1) ...\n",
            "cp: '/usr/lib/chromium-browser/chromedriver' and '/usr/bin/chromedriver' are the same file\n"
          ],
          "name": "stdout"
        }
      ]
    },
    {
      "cell_type": "markdown",
      "metadata": {
        "id": "VhNhB_DtIx-v",
        "colab_type": "text"
      },
      "source": [
        "IMPORTING LIBRARIES"
      ]
    },
    {
      "cell_type": "code",
      "metadata": {
        "id": "oDaiENQNJskD",
        "colab_type": "code",
        "colab": {}
      },
      "source": [
        "import os,sys\n",
        "sys.path.insert(0,'/usr/lib/chromium-browser/chromedriver')"
      ],
      "execution_count": 0,
      "outputs": []
    },
    {
      "cell_type": "code",
      "metadata": {
        "id": "ksL0gumnLixq",
        "colab_type": "code",
        "colab": {}
      },
      "source": [
        "#Libraries used for Data Extraction\n",
        "import requests,re\n",
        "from selenium import webdriver\n",
        "from selenium.common.exceptions import NoSuchElementException\n",
        "import lxml\n",
        "from lxml import html,etree\n",
        "import time\n",
        "from bs4 import BeautifulSoup"
      ],
      "execution_count": 0,
      "outputs": []
    },
    {
      "cell_type": "code",
      "metadata": {
        "id": "YG-u1Q5qz1m-",
        "colab_type": "code",
        "colab": {}
      },
      "source": [
        "#Libraries used for Data Analysis\n",
        "import pandas as pd\n",
        "import nltk\n",
        "from nltk.tokenize import RegexpTokenizer\n",
        "from collections import Counter"
      ],
      "execution_count": 0,
      "outputs": []
    },
    {
      "cell_type": "code",
      "metadata": {
        "trusted": true,
        "id": "dCKxJLceB6aK",
        "colab_type": "code",
        "outputId": "1c4dae52-a283-4609-855e-ad92af328e70",
        "colab": {
          "base_uri": "https://localhost:8080/",
          "height": 52
        }
      },
      "source": [
        "#Setting Options for Chrome WebDriver\n",
        "chrome_options = webdriver.ChromeOptions()\n",
        "chrome_options.add_argument('--headless')\n",
        "chrome_options.add_argument('--no-sandbox')\n",
        "chrome_options.add_argument('--disable-dev-shm-usage')\n",
        "\n",
        "# Importing the webdriver\n",
        "driver = webdriver.Chrome('chromedriver',chrome_options=chrome_options)"
      ],
      "execution_count": 6,
      "outputs": [
        {
          "output_type": "stream",
          "text": [
            "/usr/local/lib/python3.6/dist-packages/ipykernel_launcher.py:7: DeprecationWarning: use options instead of chrome_options\n",
            "  import sys\n"
          ],
          "name": "stderr"
        }
      ]
    },
    {
      "cell_type": "markdown",
      "metadata": {
        "id": "29b0bLT3KSxP",
        "colab_type": "text"
      },
      "source": [
        "ALLIED FUNCTIONS"
      ]
    },
    {
      "cell_type": "code",
      "metadata": {
        "id": "P5Oa26J2C4vz",
        "colab_type": "code",
        "colab": {}
      },
      "source": [
        "#Function for Calculation of Polarity Score\n",
        "def polarity_counter(text):\n",
        "    tokenizer = RegexpTokenizer(r'\\w+')\n",
        "    tokens = tokenizer.tokenize(text.lower())\n",
        "    filtered_tokens=[w for w in tokens if not w in stop_word]\n",
        "    total_word_count=len(filtered_tokens)\n",
        "    pos_score=replaceMultiple(\" \".join(filtered_tokens),positive,\"++POS++\").count(\"++POS++\")\n",
        "    neg_score=replaceMultiple(\" \".join(filtered_tokens),negative,\"--NEG--\").count(\"--NEG--\")\n",
        "    polarity_score=(pos_score-neg_score)/(pos_score+neg_score+0.000001)\n",
        "\n",
        "    return polarity_score"
      ],
      "execution_count": 0,
      "outputs": []
    },
    {
      "cell_type": "code",
      "metadata": {
        "trusted": true,
        "id": "JC2TEEBYB6bF",
        "colab_type": "code",
        "colab": {}
      },
      "source": [
        "#Extracter function for extracting webpages using BeautifulSoup\n",
        "def extracter(URL):\n",
        "    response=requests.get(URL).content\n",
        "    return BeautifulSoup(response,'lxml')"
      ],
      "execution_count": 0,
      "outputs": []
    },
    {
      "cell_type": "code",
      "metadata": {
        "trusted": true,
        "id": "7cQvKWosB6bQ",
        "colab_type": "code",
        "colab": {}
      },
      "source": [
        "#Cleaning Names/Titles of Restaurant\n",
        "def clean_name(name):\n",
        "    num=set(['0','1','2','3','4','5','6','7','8','9'])\n",
        "    if list(name)[0] in num:\n",
        "        a=list(name)\n",
        "        while a[0]!=' ':\n",
        "            a.pop(0)\n",
        "        a.pop(0)\n",
        "        return (''.join(a))\n",
        "    return name"
      ],
      "execution_count": 0,
      "outputs": []
    },
    {
      "cell_type": "code",
      "metadata": {
        "id": "OQBNs_aKGb2-",
        "colab_type": "code",
        "colab": {}
      },
      "source": [
        "#Clean Review Paragraph Text\n",
        "def clean_text(df,col):\n",
        "  df.iloc[:,col]=df.iloc[:,col].apply(lambda x: x.lower().strip())\n",
        "  df.iloc[:,col]=df.iloc[:,col].apply(lambda x: re.sub('[^a-zA-Z0-9]',' ',x))"
      ],
      "execution_count": 0,
      "outputs": []
    },
    {
      "cell_type": "code",
      "metadata": {
        "trusted": true,
        "id": "UICzmh9iB6aQ",
        "colab_type": "code",
        "colab": {}
      },
      "source": [
        "# function to check if the button is on the page, to avoid miss-click problem\n",
        "def check_exists_by_xpath(xpath):\n",
        "    try:\n",
        "        driver.find_element_by_xpath(xpath)\n",
        "    except NoSuchElementException:\n",
        "        return False\n",
        "    return True"
      ],
      "execution_count": 0,
      "outputs": []
    },
    {
      "cell_type": "code",
      "metadata": {
        "id": "NPt1tAFnGLeS",
        "colab_type": "code",
        "colab": {}
      },
      "source": [
        "# Function for replacing multiple values at once in a text.\\\n",
        "def replaceMultiple(mainString, toBeReplaces, newString):\n",
        "    for elem in toBeReplaces :\n",
        "        if elem in mainString :\n",
        "            mainString = mainString.replace(elem, newString)\n",
        "    \n",
        "    return  mainString"
      ],
      "execution_count": 0,
      "outputs": []
    },
    {
      "cell_type": "markdown",
      "metadata": {
        "id": "kvdiEz79KZIR",
        "colab_type": "text"
      },
      "source": [
        "EXTRACTION FUNCTION"
      ]
    },
    {
      "cell_type": "code",
      "metadata": {
        "id": "y7gfnna2NQMq",
        "colab_type": "code",
        "colab": {}
      },
      "source": [
        "#Functin for Extracting all the restaurant List from the TripAdvisor website by using URL and providing Maximum Pages to look\n",
        "def get_restaurant(url,max_page=None):\n",
        "  restaurantList=[]\n",
        "  driver.get(url)\n",
        "  soup=BeautifulSoup(driver.page_source,'lxml')\n",
        "  page_count=max_page if max_page else max(map(int,html.fromstring(str(soup)).xpath('//div[contains(@class,\"deckTools\")]//a[contains(@class,\"pageNum taLnk\")]//text()')))\n",
        "\n",
        "  for i in range(0,page_count):\n",
        "    soup=BeautifulSoup(driver.page_source,'lxml')\n",
        "    restaurant_lists=html.fromstring(str(soup)).xpath('//div[contains(@class,\"restaurants-list\")]//div[contains(@data-test,\"list_item\")]')\n",
        "    for restaurant in restaurant_lists:\n",
        "      XPATH_NAME='.//div[contains(@class,\"infoWrapper\")]//a[contains(@class,\"restaurantName\")]//text()'\n",
        "      XPATH_LINK='.//div[contains(@class,\"infoWrapper\")]//a[contains(@class,\"restaurantName\")]/@href'\n",
        "      XPATH_REVIEWS='.//div[contains(@class,\"infoWrapper\")]//span[contains(@class,\"userReviewCount\")]//text()'\n",
        "\n",
        "      raw_xpath_name=restaurant.xpath(XPATH_NAME)\n",
        "      raw_xpath_link=restaurant.xpath(XPATH_LINK)\n",
        "      raw_xpath_reviews=restaurant.xpath(XPATH_REVIEWS)\n",
        "\n",
        "      prefix='https://www.tripadvisor.in'\n",
        "      URL=prefix+raw_xpath_link[0] if raw_xpath_name else None\n",
        "      name=clean_name(''.join(raw_xpath_name[0])) if raw_xpath_name else None\n",
        "      reviewCount=raw_xpath_reviews[0].split(' ')[0] if raw_xpath_reviews else None\n",
        "\n",
        "      data = {\n",
        "          'Restaurant Name':name,\n",
        "          'URL':URL,\n",
        "          'REVIEWS':reviewCount\n",
        "      }\n",
        "      restaurantList.append(data)\n",
        "\n",
        "    if (check_exists_by_xpath('*//div[contains(@class,\"js_pageLinks\")]//a[contains(@class,\"nav next\")]')):\n",
        "          driver.find_element_by_xpath('//div[contains(@class,\"js_pageLinks\")]//a[contains(@class,\"nav next\")]').click()\n",
        "          time.sleep(5)\n",
        "  return restaurantList\n"
      ],
      "execution_count": 0,
      "outputs": []
    },
    {
      "cell_type": "code",
      "metadata": {
        "id": "sc0VRbuSnzRR",
        "colab_type": "code",
        "colab": {}
      },
      "source": [
        "#Functin for Extracting all the restaurant reviews from the TripAdvisor website by using URL and providing Maximum Pages to look\n",
        "def get_review(url,max_page=None):\n",
        "  reviewList=[]\n",
        "  driver.get(url)\n",
        "  soup=BeautifulSoup(driver.page_source,'lxml')\n",
        "  page=max_page if max_page else max(map(int,html.fromstring(str(soup)).xpath('//div[contains(@class,\"ui_pagination\")]//a[contains(@class,\"pageNum\")]//text()')))\n",
        "  for i in range(page):\n",
        "      if (check_exists_by_xpath(\"//span[@class='taLnk ulBlueLinks']\")):\n",
        "        driver.find_element_by_xpath(\"//span[@class='taLnk ulBlueLinks']\").click()\n",
        "      soup=BeautifulSoup(driver.page_source,'lxml')\n",
        "      review_lists=html.fromstring(str(soup)).xpath('.//div[@id=\"REVIEWS\"]//div[contains(@class,\"review-container\")]')\n",
        "      for review in review_lists:\n",
        "        XPATH_REVIEW_ID='.//div[contains(@class,\"reviewSelector\")]/@data-reviewid'\n",
        "        XPATH_RATING='.//div[contains(@class,\"reviewSelector\")]//span[contains(@class,\"ui_bubble_rating\")]/@class'\n",
        "        XPATH_REVIEW_TITLE='.//div[contains(@class,\"reviewSelector\")]//span[@class=\"noQuotes\"]//text()'\n",
        "        XPATH_REVIEW_DATE='.//div[contains(@class,\"reviewSelector\")]//div[@data-prwidget-name=\"reviews_stay_date_hsx\"]/text()'\n",
        "        XPATH_PARAGRAPH='.//div[contains(@class,\"reviewSelector\")]//div[@data-prwidget-name=\"reviews_text_summary_hsx\"]//p[@class=\"partial_entry\"]//text()'\n",
        "        \n",
        "        raw_review_id=review.xpath(XPATH_REVIEW_ID)\n",
        "        raw_rating=review.xpath(XPATH_RATING)\n",
        "        raw_review_title=review.xpath(XPATH_REVIEW_TITLE)\n",
        "        raw_review_date=review.xpath(XPATH_REVIEW_DATE)\n",
        "        raw_review_paragraph=review.xpath(XPATH_PARAGRAPH)\n",
        "        \n",
        "        ID=raw_review_id[0] if raw_review_id else None\n",
        "        rating=list(raw_rating[0])[-2] if raw_rating else None\n",
        "        title=raw_review_title[0] if raw_review_title else None\n",
        "        date=raw_review_date[0] if raw_review_date else None\n",
        "        paragraph=str(raw_review_paragraph[0]).replace('\\n',' ') if raw_review_paragraph else None\n",
        "        \n",
        "        data = {\n",
        "            'URL':url,\n",
        "            'ID': ID,\n",
        "            'Rating':rating,\n",
        "            'Title':title,\n",
        "            'Date':date,\n",
        "            'Review':paragraph,\n",
        "        }\n",
        "        reviewList.append(data)\n",
        "\n",
        "      if (check_exists_by_xpath('*//div[contains(@class,\"ui_pagination\")]//a[contains(@class,\"nav next\")]')):\n",
        "        driver.find_element_by_xpath('//div[contains(@class,\"ui_pagination\")]//a[contains(@class,\"nav next\")]').click()\n",
        "        time.sleep(5)\n",
        "  return reviewList"
      ],
      "execution_count": 0,
      "outputs": []
    },
    {
      "cell_type": "code",
      "metadata": {
        "id": "LbjjwIBE0Jmr",
        "colab_type": "code",
        "colab": {}
      },
      "source": [
        "#Defining stopwords,positive words and negative words for sentiment analysis dowloaded from Cambridge University Press\n",
        "stop_word=list(pd.read_csv('https://raw.githubusercontent.com/ammar0211/sentiment_data/master/StopWords_GenericLong.txt',delimiter=' ',header=None)[0])\n",
        "positive=list(pd.read_csv('https://raw.githubusercontent.com/ammar0211/sentiment_data/master/positive-words.txt',delimiter=' ',header=None)[0])\n",
        "negative=list(pd.read_csv('https://raw.githubusercontent.com/ammar0211/sentiment_data/master/negative-words.txt',delimiter=' ',header=None)[0])"
      ],
      "execution_count": 0,
      "outputs": []
    },
    {
      "cell_type": "code",
      "metadata": {
        "id": "B9cwweujIYl7",
        "colab_type": "code",
        "colab": {}
      },
      "source": [
        "RESTAURANT_LIST=pd.DataFrame(get_restaurant('https://www.tripadvisor.in/Restaurants-g304551-New_Delhi_National_Capital_Territory_of_Delhi.html',2))"
      ],
      "execution_count": 0,
      "outputs": []
    },
    {
      "cell_type": "code",
      "metadata": {
        "id": "vg4JAtbSRqhh",
        "colab_type": "code",
        "colab": {
          "base_uri": "https://localhost:8080/",
          "height": 415
        },
        "outputId": "0688d514-61be-42c6-a751-97818336aedf"
      },
      "source": [
        "RESTAURANT_LIST"
      ],
      "execution_count": 17,
      "outputs": [
        {
          "output_type": "execute_result",
          "data": {
            "text/html": [
              "<div>\n",
              "<style scoped>\n",
              "    .dataframe tbody tr th:only-of-type {\n",
              "        vertical-align: middle;\n",
              "    }\n",
              "\n",
              "    .dataframe tbody tr th {\n",
              "        vertical-align: top;\n",
              "    }\n",
              "\n",
              "    .dataframe thead th {\n",
              "        text-align: right;\n",
              "    }\n",
              "</style>\n",
              "<table border=\"1\" class=\"dataframe\">\n",
              "  <thead>\n",
              "    <tr style=\"text-align: right;\">\n",
              "      <th></th>\n",
              "      <th>Restaurant Name</th>\n",
              "      <th>URL</th>\n",
              "      <th>REVIEWS</th>\n",
              "    </tr>\n",
              "  </thead>\n",
              "  <tbody>\n",
              "    <tr>\n",
              "      <th>0</th>\n",
              "      <td>Detroit Garage Bar &amp; Kitchen</td>\n",
              "      <td>https://www.tripadvisor.in/Restaurant_Review-g...</td>\n",
              "      <td>39</td>\n",
              "    </tr>\n",
              "    <tr>\n",
              "      <th>1</th>\n",
              "      <td>Spring</td>\n",
              "      <td>https://www.tripadvisor.in/Restaurant_Review-g...</td>\n",
              "      <td>576</td>\n",
              "    </tr>\n",
              "    <tr>\n",
              "      <th>2</th>\n",
              "      <td>Thyme</td>\n",
              "      <td>https://www.tripadvisor.in/Restaurant_Review-g...</td>\n",
              "      <td>697</td>\n",
              "    </tr>\n",
              "    <tr>\n",
              "      <th>3</th>\n",
              "      <td>Dilli 32</td>\n",
              "      <td>https://www.tripadvisor.in/Restaurant_Review-g...</td>\n",
              "      <td>243</td>\n",
              "    </tr>\n",
              "    <tr>\n",
              "      <th>4</th>\n",
              "      <td>The Hong Kong Club</td>\n",
              "      <td>https://www.tripadvisor.in/Restaurant_Review-g...</td>\n",
              "      <td>1,035</td>\n",
              "    </tr>\n",
              "    <tr>\n",
              "      <th>...</th>\n",
              "      <td>...</td>\n",
              "      <td>...</td>\n",
              "      <td>...</td>\n",
              "    </tr>\n",
              "    <tr>\n",
              "      <th>57</th>\n",
              "      <td>Akira Back</td>\n",
              "      <td>https://www.tripadvisor.in/Restaurant_Review-g...</td>\n",
              "      <td>332</td>\n",
              "    </tr>\n",
              "    <tr>\n",
              "      <th>58</th>\n",
              "      <td>Spezia Bistro</td>\n",
              "      <td>https://www.tripadvisor.in/Restaurant_Review-g...</td>\n",
              "      <td>75</td>\n",
              "    </tr>\n",
              "    <tr>\n",
              "      <th>59</th>\n",
              "      <td>Bukhara</td>\n",
              "      <td>https://www.tripadvisor.in/Restaurant_Review-g...</td>\n",
              "      <td>4,191</td>\n",
              "    </tr>\n",
              "    <tr>\n",
              "      <th>60</th>\n",
              "      <td>Kebabs &amp; Kurries</td>\n",
              "      <td>https://www.tripadvisor.in/Restaurant_Review-g...</td>\n",
              "      <td>126</td>\n",
              "    </tr>\n",
              "    <tr>\n",
              "      <th>61</th>\n",
              "      <td>Rice -  Pan Asian Restaurant</td>\n",
              "      <td>https://www.tripadvisor.in/Restaurant_Review-g...</td>\n",
              "      <td>116</td>\n",
              "    </tr>\n",
              "  </tbody>\n",
              "</table>\n",
              "<p>62 rows × 3 columns</p>\n",
              "</div>"
            ],
            "text/plain": [
              "                 Restaurant Name  ... REVIEWS\n",
              "0   Detroit Garage Bar & Kitchen  ...      39\n",
              "1                         Spring  ...     576\n",
              "2                          Thyme  ...     697\n",
              "3                       Dilli 32  ...     243\n",
              "4             The Hong Kong Club  ...   1,035\n",
              "..                           ...  ...     ...\n",
              "57                    Akira Back  ...     332\n",
              "58                 Spezia Bistro  ...      75\n",
              "59                       Bukhara  ...   4,191\n",
              "60              Kebabs & Kurries  ...     126\n",
              "61  Rice -  Pan Asian Restaurant  ...     116\n",
              "\n",
              "[62 rows x 3 columns]"
            ]
          },
          "metadata": {
            "tags": []
          },
          "execution_count": 17
        }
      ]
    },
    {
      "cell_type": "code",
      "metadata": {
        "id": "ibHtcoW_IeHW",
        "colab_type": "code",
        "colab": {}
      },
      "source": [
        "#Creating a list of dictionaries containing all the reviews of all the restaurant from the RESTAURANT_LIST dataframe\n",
        "reviewList=[]\n",
        "for url in RESTAURANT_LIST.URL:\n",
        "  reviewList+=get_review(url,2)\n",
        "\n",
        "#Converting the review list into DataFrame\n",
        "DF=pd.DataFrame(reviewList)"
      ],
      "execution_count": 0,
      "outputs": []
    },
    {
      "cell_type": "code",
      "metadata": {
        "id": "Udjd0kUQ763u",
        "colab_type": "code",
        "colab": {}
      },
      "source": [
        "#Cleaning the review paragraph\n",
        "clean_text(DF,5)"
      ],
      "execution_count": 0,
      "outputs": []
    },
    {
      "cell_type": "code",
      "metadata": {
        "id": "MEKtkElpfWzp",
        "colab_type": "code",
        "colab": {
          "base_uri": "https://localhost:8080/",
          "height": 289
        },
        "outputId": "051a4ad6-8da0-4f17-db71-34a421c72370"
      },
      "source": [
        "DF.head()"
      ],
      "execution_count": 20,
      "outputs": [
        {
          "output_type": "execute_result",
          "data": {
            "text/html": [
              "<div>\n",
              "<style scoped>\n",
              "    .dataframe tbody tr th:only-of-type {\n",
              "        vertical-align: middle;\n",
              "    }\n",
              "\n",
              "    .dataframe tbody tr th {\n",
              "        vertical-align: top;\n",
              "    }\n",
              "\n",
              "    .dataframe thead th {\n",
              "        text-align: right;\n",
              "    }\n",
              "</style>\n",
              "<table border=\"1\" class=\"dataframe\">\n",
              "  <thead>\n",
              "    <tr style=\"text-align: right;\">\n",
              "      <th></th>\n",
              "      <th>URL</th>\n",
              "      <th>ID</th>\n",
              "      <th>Rating</th>\n",
              "      <th>Title</th>\n",
              "      <th>Date</th>\n",
              "      <th>Review</th>\n",
              "    </tr>\n",
              "  </thead>\n",
              "  <tbody>\n",
              "    <tr>\n",
              "      <th>0</th>\n",
              "      <td>https://www.tripadvisor.in/Restaurant_Review-g...</td>\n",
              "      <td>724691556</td>\n",
              "      <td>5</td>\n",
              "      <td>Detroit, Place Worth Visiting For All The Food...</td>\n",
              "      <td>November 2019</td>\n",
              "      <td>the classy  vintage vibes with those amazing c...</td>\n",
              "    </tr>\n",
              "    <tr>\n",
              "      <th>1</th>\n",
              "      <td>https://www.tripadvisor.in/Restaurant_Review-g...</td>\n",
              "      <td>724212126</td>\n",
              "      <td>4</td>\n",
              "      <td>Great ambience, good food</td>\n",
              "      <td>October 2019</td>\n",
              "      <td>a  theme based interior with all  car related ...</td>\n",
              "    </tr>\n",
              "    <tr>\n",
              "      <th>2</th>\n",
              "      <td>https://www.tripadvisor.in/Restaurant_Review-g...</td>\n",
              "      <td>717122952</td>\n",
              "      <td>5</td>\n",
              "      <td>AMAZING PLACE!</td>\n",
              "      <td>October 2019</td>\n",
              "      <td>newly opened place in cp and i believe this pl...</td>\n",
              "    </tr>\n",
              "    <tr>\n",
              "      <th>3</th>\n",
              "      <td>https://www.tripadvisor.in/Restaurant_Review-g...</td>\n",
              "      <td>715745604</td>\n",
              "      <td>4</td>\n",
              "      <td>Vintage car</td>\n",
              "      <td>October 2019</td>\n",
              "      <td>detroit garage bar   kitchen is an amazing pla...</td>\n",
              "    </tr>\n",
              "    <tr>\n",
              "      <th>4</th>\n",
              "      <td>https://www.tripadvisor.in/Restaurant_Review-g...</td>\n",
              "      <td>714965148</td>\n",
              "      <td>4</td>\n",
              "      <td>Nice Ambience, But Average Food taste!</td>\n",
              "      <td>September 2019</td>\n",
              "      <td>nice place  with great decor and music  howeve...</td>\n",
              "    </tr>\n",
              "  </tbody>\n",
              "</table>\n",
              "</div>"
            ],
            "text/plain": [
              "                                                 URL  ...                                             Review\n",
              "0  https://www.tripadvisor.in/Restaurant_Review-g...  ...  the classy  vintage vibes with those amazing c...\n",
              "1  https://www.tripadvisor.in/Restaurant_Review-g...  ...  a  theme based interior with all  car related ...\n",
              "2  https://www.tripadvisor.in/Restaurant_Review-g...  ...  newly opened place in cp and i believe this pl...\n",
              "3  https://www.tripadvisor.in/Restaurant_Review-g...  ...  detroit garage bar   kitchen is an amazing pla...\n",
              "4  https://www.tripadvisor.in/Restaurant_Review-g...  ...  nice place  with great decor and music  howeve...\n",
              "\n",
              "[5 rows x 6 columns]"
            ]
          },
          "metadata": {
            "tags": []
          },
          "execution_count": 20
        }
      ]
    },
    {
      "cell_type": "code",
      "metadata": {
        "id": "L599zhF97vW8",
        "colab_type": "code",
        "colab": {}
      },
      "source": [
        "#Calculating the polarity score\n",
        "DF['Polarity Score']=DF.Review.apply(lambda x: polarity_counter(x))"
      ],
      "execution_count": 0,
      "outputs": []
    },
    {
      "cell_type": "markdown",
      "metadata": {
        "id": "xPLsDZXL-cyt",
        "colab_type": "text"
      },
      "source": [
        "Hence, Most postive would be ReviewID 720976868 ('errrrmmm not sure how to fully express my annoyance and anger after learning that we were charged wrong   way too much') with -1 Polarity Score \n",
        "Most positive would be ReviewID 705010600 ('thank you team bling    visited first time and after exploring whole of aerocity your team was the best   being a member so many other hotel chains   you proved why pullman is best and deserving   all thanks to mr  gaurav for customizing our drinks as per taste and make our visit a memorable one      would definitely come again   thanks again') with +1 Polarity among many others with same score.\n"
      ]
    },
    {
      "cell_type": "code",
      "metadata": {
        "id": "GHim8Uj7L4jo",
        "colab_type": "code",
        "colab": {
          "base_uri": "https://localhost:8080/",
          "height": 35
        },
        "outputId": "364d90d1-91d5-4897-f1bf-9a36230d6257"
      },
      "source": [
        "#Calculating the Most Frequent Words\n",
        "tokenizer = RegexpTokenizer(r'\\w+')\n",
        "tokens = tokenizer.tokenize((\" \".join(DF.Review)).lower())\n",
        "filtered_tokens=[w for w in tokens if not w in stop_word]\n",
        "word_count=Counter(filtered_tokens)\n",
        "word_count.most_common(2)"
      ],
      "execution_count": 22,
      "outputs": [
        {
          "output_type": "execute_result",
          "data": {
            "text/plain": [
              "[('food', 766), ('service', 498)]"
            ]
          },
          "metadata": {
            "tags": []
          },
          "execution_count": 22
        }
      ]
    },
    {
      "cell_type": "markdown",
      "metadata": {
        "id": "dEy5Ry9dbZ34",
        "colab_type": "text"
      },
      "source": [
        "Therefore, food is the most common word with 785 occurances throughout the data followed by services with 521 occurances."
      ]
    },
    {
      "cell_type": "code",
      "metadata": {
        "id": "cxmbwP_hfaW1",
        "colab_type": "code",
        "colab": {}
      },
      "source": [
        "DF.drop(columns=['ID'],axis=1,inplace=True)"
      ],
      "execution_count": 0,
      "outputs": []
    },
    {
      "cell_type": "code",
      "metadata": {
        "colab_type": "code",
        "id": "jm0CkKr2MFXW",
        "colab": {}
      },
      "source": [
        "#Converting th review file into CSV\n",
        "DF.to_csv('Data Analyst Internship Submission.csv',header=True,index=False)"
      ],
      "execution_count": 0,
      "outputs": []
    }
  ]
}