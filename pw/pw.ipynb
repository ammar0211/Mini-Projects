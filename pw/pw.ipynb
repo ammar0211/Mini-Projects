{
 "cells": [
  {
   "cell_type": "code",
   "execution_count": 1,
   "metadata": {},
   "outputs": [],
   "source": [
    "%matplotlib inline\n",
    "import matplotlib\n",
    "import seaborn as sns\n",
    "matplotlib.rcParams['savefig.dpi'] = 144"
   ]
  },
  {
   "cell_type": "code",
   "execution_count": 2,
   "metadata": {},
   "outputs": [],
   "source": [
    "from static_grader import grader"
   ]
  },
  {
   "cell_type": "markdown",
   "metadata": {},
   "source": [
    "# PW Miniproject\n",
    "## Introduction\n",
    "\n",
    "The objective of this miniproject is to exercise your ability to use basic Python data structures, define functions, and control program flow. We will be using these concepts to perform some fundamental data wrangling tasks such as joining data sets together, splitting data into groups, and aggregating data into summary statistics.\n",
    "**Please do not use `pandas` or `numpy` to answer these questions.**\n",
    "\n",
    "We will be working with medical data from the British NHS on prescription drugs. Since this is real data, it contains many ambiguities that we will need to confront in our analysis. This is commonplace in data science, and is one of the lessons you will learn in this miniproject."
   ]
  },
  {
   "cell_type": "markdown",
   "metadata": {},
   "source": [
    "## Downloading the data\n",
    "\n",
    "We first need to download the data we'll be using from Amazon S3:"
   ]
  },
  {
   "cell_type": "code",
   "execution_count": 3,
   "metadata": {},
   "outputs": [
    {
     "name": "stderr",
     "output_type": "stream",
     "text": [
      "--2019-06-11 08:40:33--  http://dataincubator-wqu.s3.amazonaws.com/pwdata/201701scripts_sample.json.gz\n",
      "Resolving dataincubator-wqu.s3.amazonaws.com (dataincubator-wqu.s3.amazonaws.com)... 52.216.138.235\n",
      "Connecting to dataincubator-wqu.s3.amazonaws.com (dataincubator-wqu.s3.amazonaws.com)|52.216.138.235|:80... connected.\n",
      "HTTP request sent, awaiting response... 200 OK\n",
      "Length: 10367709 (9.9M) [application/json]\n",
      "Saving to: ‘./pw-data/201701scripts_sample.json.gz’\n",
      "\n",
      "     0K .......... .......... .......... .......... ..........  0% 24.4M 0s\n",
      "    50K .......... .......... .......... .......... ..........  0% 24.3M 0s\n",
      "   100K .......... .......... .......... .......... ..........  1% 35.1M 0s\n",
      "   150K .......... .......... .......... .......... ..........  1% 34.9M 0s\n",
      "   200K .......... .......... .......... .......... ..........  2% 32.2M 0s\n",
      "   250K .......... .......... .......... .......... ..........  2% 34.6M 0s\n",
      "   300K .......... .......... .......... .......... ..........  3% 41.3M 0s\n",
      "   350K .......... .......... .......... .......... ..........  3% 41.6M 0s\n",
      "   400K .......... .......... .......... .......... ..........  4% 36.8M 0s\n",
      "   450K .......... .......... .......... .......... ..........  4% 40.3M 0s\n",
      "   500K .......... .......... .......... .......... ..........  5% 57.3M 0s\n",
      "   550K .......... .......... .......... .......... ..........  5% 49.6M 0s\n",
      "   600K .......... .......... .......... .......... ..........  6% 42.3M 0s\n",
      "   650K .......... .......... .......... .......... ..........  6% 36.7M 0s\n",
      "   700K .......... .......... .......... .......... ..........  7% 89.4M 0s\n",
      "   750K .......... .......... .......... .......... ..........  7% 45.2M 0s\n",
      "   800K .......... .......... .......... .......... ..........  8% 31.4M 0s\n",
      "   850K .......... .......... .......... .......... ..........  8%  114M 0s\n",
      "   900K .......... .......... .......... .......... ..........  9% 53.7M 0s\n",
      "   950K .......... .......... .......... .......... ..........  9% 72.6M 0s\n",
      "  1000K .......... .......... .......... .......... .......... 10% 40.2M 0s\n",
      "  1050K .......... .......... .......... .......... .......... 10%  180M 0s\n",
      "  1100K .......... .......... .......... .......... .......... 11% 34.3M 0s\n",
      "  1150K .......... .......... .......... .......... .......... 11% 82.8M 0s\n",
      "  1200K .......... .......... .......... .......... .......... 12%  105M 0s\n",
      "  1250K .......... .......... .......... .......... .......... 12% 33.9M 0s\n",
      "  1300K .......... .......... .......... .......... .......... 13%  215M 0s\n",
      "  1350K .......... .......... .......... .......... .......... 13% 93.8M 0s\n",
      "  1400K .......... .......... .......... .......... .......... 14% 29.7M 0s\n",
      "  1450K .......... .......... .......... .......... .......... 14%  130M 0s\n",
      "  1500K .......... .......... .......... .......... .......... 15%  173M 0s\n",
      "  1550K .......... .......... .......... .......... .......... 15% 42.0M 0s\n",
      "  1600K .......... .......... .......... .......... .......... 16% 27.9M 0s\n",
      "  1650K .......... .......... .......... .......... .......... 16%  147M 0s\n",
      "  1700K .......... .......... .......... .......... .......... 17%  207M 0s\n",
      "  1750K .......... .......... .......... .......... .......... 17% 37.1M 0s\n",
      "  1800K .......... .......... .......... .......... .......... 18% 28.8M 0s\n",
      "  1850K .......... .......... .......... .......... .......... 18%  161M 0s\n",
      "  1900K .......... .......... .......... .......... .......... 19% 34.8M 0s\n",
      "  1950K .......... .......... .......... .......... .......... 19%  207M 0s\n",
      "  2000K .......... .......... .......... .......... .......... 20% 98.6M 0s\n",
      "  2050K .......... .......... .......... .......... .......... 20% 39.8M 0s\n",
      "  2100K .......... .......... .......... .......... .......... 21%  285M 0s\n",
      "  2150K .......... .......... .......... .......... .......... 21%  222M 0s\n",
      "  2200K .......... .......... .......... .......... .......... 22% 98.6M 0s\n",
      "  2250K .......... .......... .......... .......... .......... 22% 25.0M 0s\n",
      "  2300K .......... .......... .......... .......... .......... 23%  163M 0s\n",
      "  2350K .......... .......... .......... .......... .......... 23%  236M 0s\n",
      "  2400K .......... .......... .......... .......... .......... 24% 39.3M 0s\n",
      "  2450K .......... .......... .......... .......... .......... 24% 26.0M 0s\n",
      "  2500K .......... .......... .......... .......... .......... 25%  158M 0s\n",
      "  2550K .......... .......... .......... .......... .......... 25%  153M 0s\n",
      "  2600K .......... .......... .......... .......... .......... 26%  119M 0s\n",
      "  2650K .......... .......... .......... .......... .......... 26% 25.1M 0s\n",
      "  2700K .......... .......... .......... .......... .......... 27% 26.7M 0s\n",
      "  2750K .......... .......... .......... .......... .......... 27%  156M 0s\n",
      "  2800K .......... .......... .......... .......... .......... 28%  367M 0s\n",
      "  2850K .......... .......... .......... .......... .......... 28%  361M 0s\n",
      "  2900K .......... .......... .......... .......... .......... 29%  383M 0s\n",
      "  2950K .......... .......... .......... .......... .......... 29% 26.2M 0s\n",
      "  3000K .......... .......... .......... .......... .......... 30% 31.1M 0s\n",
      "  3050K .......... .......... .......... .......... .......... 30% 53.7M 0s\n",
      "  3100K .......... .......... .......... .......... .......... 31% 36.7M 0s\n",
      "  3150K .......... .......... .......... .......... .......... 31% 66.7M 0s\n",
      "  3200K .......... .......... .......... .......... .......... 32%  167M 0s\n",
      "  3250K .......... .......... .......... .......... .......... 32% 77.7M 0s\n",
      "  3300K .......... .......... .......... .......... .......... 33% 18.4M 0s\n",
      "  3350K .......... .......... .......... .......... .......... 33% 34.7M 0s\n",
      "  3400K .......... .......... .......... .......... .......... 34% 39.2M 0s\n",
      "  3450K .......... .......... .......... .......... .......... 34%  149M 0s\n",
      "  3500K .......... .......... .......... .......... .......... 35% 45.9M 0s\n",
      "  3550K .......... .......... .......... .......... .......... 35%  157M 0s\n",
      "  3600K .......... .......... .......... .......... .......... 36%  232M 0s\n",
      "  3650K .......... .......... .......... .......... .......... 36%  422M 0s\n",
      "  3700K .......... .......... .......... .......... .......... 37% 27.3M 0s\n",
      "  3750K .......... .......... .......... .......... .......... 37% 26.0M 0s\n",
      "  3800K .......... .......... .......... .......... .......... 38% 68.2M 0s\n",
      "  3850K .......... .......... .......... .......... .......... 38%  100M 0s\n",
      "  3900K .......... .......... .......... .......... .......... 39%  421M 0s\n",
      "  3950K .......... .......... .......... .......... .......... 39%  334M 0s\n",
      "  4000K .......... .......... .......... .......... .......... 40%  427M 0s\n",
      "  4050K .......... .......... .......... .......... .......... 40%  151M 0s\n",
      "  4100K .......... .......... .......... .......... .......... 40%  164M 0s\n",
      "  4150K .......... .......... .......... .......... .......... 41% 34.0M 0s\n",
      "  4200K .......... .......... .......... .......... .......... 41% 24.3M 0s\n",
      "  4250K .......... .......... .......... .......... .......... 42% 21.8M 0s\n",
      "  4300K .......... .......... .......... .......... .......... 42%  113M 0s\n",
      "  4350K .......... .......... .......... .......... .......... 43%  154M 0s\n",
      "  4400K .......... .......... .......... .......... .......... 43%  196M 0s\n",
      "  4450K .......... .......... .......... .......... .......... 44%  213M 0s\n",
      "  4500K .......... .......... .......... .......... .......... 44% 43.6M 0s\n",
      "  4550K .......... .......... .......... .......... .......... 45% 20.5M 0s\n",
      "  4600K .......... .......... .......... .......... .......... 45% 37.4M 0s\n",
      "  4650K .......... .......... .......... .......... .......... 46%  346M 0s\n",
      "  4700K .......... .......... .......... .......... .......... 46%  449M 0s\n",
      "  4750K .......... .......... .......... .......... .......... 47%  334M 0s\n",
      "  4800K .......... .......... .......... .......... .......... 47%  410M 0s\n",
      "  4850K .......... .......... .......... .......... .......... 48%  424M 0s\n",
      "  4900K .......... .......... .......... .......... .......... 48%  106M 0s\n",
      "  4950K .......... .......... .......... .......... .......... 49% 22.9M 0s\n",
      "  5000K .......... .......... .......... .......... .......... 49%  160M 0s\n",
      "  5050K .......... .......... .......... .......... .......... 50% 27.3M 0s\n",
      "  5100K .......... .......... .......... .......... .......... 50%  103M 0s\n",
      "  5150K .......... .......... .......... .......... .......... 51% 24.2M 0s\n",
      "  5200K .......... .......... .......... .......... .......... 51%  142M 0s\n",
      "  5250K .......... .......... .......... .......... .......... 52% 30.2M 0s\n",
      "  5300K .......... .......... .......... .......... .......... 52%  151M 0s\n",
      "  5350K .......... .......... .......... .......... .......... 53%  134M 0s\n",
      "  5400K .......... .......... .......... .......... .......... 53% 71.5M 0s\n",
      "  5450K .......... .......... .......... .......... .......... 54% 24.9M 0s\n",
      "  5500K .......... .......... .......... .......... .......... 54%  203M 0s\n",
      "  5550K .......... .......... .......... .......... .......... 55%  317M 0s\n",
      "  5600K .......... .......... .......... .......... .......... 55%  406M 0s\n",
      "  5650K .......... .......... .......... .......... .......... 56% 93.6M 0s\n",
      "  5700K .......... .......... .......... .......... .......... 56% 31.5M 0s\n",
      "  5750K .......... .......... .......... .......... .......... 57%  134M 0s\n",
      "  5800K .......... .......... .......... .......... .......... 57%  170M 0s\n",
      "  5850K .......... .......... .......... .......... .......... 58%  243M 0s\n",
      "  5900K .......... .......... .......... .......... .......... 58% 50.3M 0s\n",
      "  5950K .......... .......... .......... .......... .......... 59% 19.1M 0s\n",
      "  6000K .......... .......... .......... .......... .......... 59% 83.3M 0s\n",
      "  6050K .......... .......... .......... .......... .......... 60% 42.5M 0s\n",
      "  6100K .......... .......... .......... .......... .......... 60% 50.8M 0s\n",
      "  6150K .......... .......... .......... .......... .......... 61%  153M 0s\n",
      "  6200K .......... .......... .......... .......... .......... 61% 29.5M 0s\n",
      "  6250K .......... .......... .......... .......... .......... 62% 59.3M 0s\n",
      "  6300K .......... .......... .......... .......... .......... 62%  362M 0s\n",
      "  6350K .......... .......... .......... .......... .......... 63%  341M 0s\n",
      "  6400K .......... .......... .......... .......... .......... 63%  431M 0s\n",
      "  6450K .......... .......... .......... .......... .......... 64%  437M 0s\n",
      "  6500K .......... .......... .......... .......... .......... 64%  372M 0s\n",
      "  6550K .......... .......... .......... .......... .......... 65%  361M 0s\n",
      "  6600K .......... .......... .......... .......... .......... 65%  432M 0s\n",
      "  6650K .......... .......... .......... .......... .......... 66%  423M 0s\n",
      "  6700K .......... .......... .......... .......... .......... 66% 38.6M 0s\n",
      "  6750K .......... .......... .......... .......... .......... 67% 17.3M 0s\n",
      "  6800K .......... .......... .......... .......... .......... 67% 50.5M 0s\n",
      "  6850K .......... .......... .......... .......... .......... 68%  431M 0s\n",
      "  6900K .......... .......... .......... .......... .......... 68%  456M 0s\n",
      "  6950K .......... .......... .......... .......... .......... 69%  393M 0s\n",
      "  7000K .......... .......... .......... .......... .......... 69%  450M 0s\n",
      "  7050K .......... .......... .......... .......... .......... 70% 12.8M 0s\n",
      "  7100K .......... .......... .......... .......... .......... 70% 51.1M 0s\n",
      "  7150K .......... .......... .......... .......... .......... 71% 44.3M 0s\n",
      "  7200K .......... .......... .......... .......... .......... 71%  167M 0s\n",
      "  7250K .......... .......... .......... .......... .......... 72%  184M 0s\n",
      "  7300K .......... .......... .......... .......... .......... 72% 23.1M 0s\n",
      "  7350K .......... .......... .......... .......... .......... 73% 91.2M 0s\n",
      "  7400K .......... .......... .......... .......... .......... 73% 28.4M 0s\n",
      "  7450K .......... .......... .......... .......... .......... 74%  194M 0s\n",
      "  7500K .......... .......... .......... .......... .......... 74%  154M 0s\n",
      "  7550K .......... .......... .......... .......... .......... 75%  229M 0s\n",
      "  7600K .......... .......... .......... .......... .......... 75%  182M 0s\n",
      "  7650K .......... .......... .......... .......... .......... 76%  237M 0s\n",
      "  7700K .......... .......... .......... .......... .......... 76% 26.9M 0s\n",
      "  7750K .......... .......... .......... .......... .......... 77% 21.0M 0s\n",
      "  7800K .......... .......... .......... .......... .......... 77% 29.0M 0s\n",
      "  7850K .......... .......... .......... .......... .......... 78%  141M 0s\n",
      "  7900K .......... .......... .......... .......... .......... 78% 25.3M 0s\n",
      "  7950K .......... .......... .......... .......... .......... 79% 83.8M 0s\n",
      "  8000K .......... .......... .......... .......... .......... 79% 34.8M 0s\n",
      "  8050K .......... .......... .......... .......... .......... 80% 72.4M 0s\n",
      "  8100K .......... .......... .......... .......... .......... 80% 31.9M 0s\n",
      "  8150K .......... .......... .......... .......... .......... 80% 74.9M 0s\n",
      "  8200K .......... .......... .......... .......... .......... 81% 34.8M 0s\n",
      "  8250K .......... .......... .......... .......... .......... 81%  287M 0s\n",
      "  8300K .......... .......... .......... .......... .......... 82%  332M 0s\n",
      "  8350K .......... .......... .......... .......... .......... 82% 49.1M 0s\n",
      "  8400K .......... .......... .......... .......... .......... 83% 25.1M 0s\n",
      "  8450K .......... .......... .......... .......... .......... 83% 47.7M 0s\n",
      "  8500K .......... .......... .......... .......... .......... 84%  151M 0s\n",
      "  8550K .......... .......... .......... .......... .......... 84% 25.2M 0s\n",
      "  8600K .......... .......... .......... .......... .......... 85% 99.1M 0s\n",
      "  8650K .......... .......... .......... .......... .......... 85%  353M 0s\n",
      "  8700K .......... .......... .......... .......... .......... 86%  353M 0s\n",
      "  8750K .......... .......... .......... .......... .......... 86%  406M 0s\n",
      "  8800K .......... .......... .......... .......... .......... 87%  426M 0s\n",
      "  8850K .......... .......... .......... .......... .......... 87%  386M 0s\n",
      "  8900K .......... .......... .......... .......... .......... 88%  349M 0s\n",
      "  8950K .......... .......... .......... .......... .......... 88%  405M 0s\n",
      "  9000K .......... .......... .......... .......... .......... 89%  420M 0s\n",
      "  9050K .......... .......... .......... .......... .......... 89%  440M 0s\n",
      "  9100K .......... .......... .......... .......... .......... 90% 36.0M 0s\n",
      "  9150K .......... .......... .......... .......... .......... 90% 17.9M 0s\n",
      "  9200K .......... .......... .......... .......... .......... 91% 28.7M 0s\n",
      "  9250K .......... .......... .......... .......... .......... 91%  233M 0s\n",
      "  9300K .......... .......... .......... .......... .......... 92%  179M 0s\n",
      "  9350K .......... .......... .......... .......... .......... 92%  202M 0s\n",
      "  9400K .......... .......... .......... .......... .......... 93% 22.1M 0s\n",
      "  9450K .......... .......... .......... .......... .......... 93% 33.9M 0s\n",
      "  9500K .......... .......... .......... .......... .......... 94%  148M 0s\n",
      "  9550K .......... .......... .......... .......... .......... 94% 63.9M 0s\n",
      "  9600K .......... .......... .......... .......... .......... 95% 22.2M 0s\n",
      "  9650K .......... .......... .......... .......... .......... 95%  168M 0s\n",
      "  9700K .......... .......... .......... .......... .......... 96%  245M 0s\n",
      "  9750K .......... .......... .......... .......... .......... 96%  429M 0s\n",
      "  9800K .......... .......... .......... .......... .......... 97%  344M 0s\n",
      "  9850K .......... .......... .......... .......... .......... 97%  432M 0s\n",
      "  9900K .......... .......... .......... .......... .......... 98%  407M 0s\n",
      "  9950K .......... .......... .......... .......... .......... 98%  420M 0s\n",
      " 10000K .......... .......... .......... .......... .......... 99%  333M 0s\n",
      " 10050K .......... .......... .......... .......... .......... 99%  447M 0s\n",
      " 10100K .......... .......... ....                            100%  381M=0.2s\n",
      "\n",
      "2019-06-11 08:40:34 (58.7 MB/s) - ‘./pw-data/201701scripts_sample.json.gz’ saved [10367709/10367709]\n",
      "\n",
      "--2019-06-11 08:40:34--  http://dataincubator-wqu.s3.amazonaws.com/pwdata/practices.json.gz\n",
      "Resolving dataincubator-wqu.s3.amazonaws.com (dataincubator-wqu.s3.amazonaws.com)... 52.216.179.91\n",
      "Connecting to dataincubator-wqu.s3.amazonaws.com (dataincubator-wqu.s3.amazonaws.com)|52.216.179.91|:80... connected.\n",
      "HTTP request sent, awaiting response... 200 OK\n",
      "Length: 402461 (393K) [application/json]\n",
      "Saving to: ‘./pw-data/practices.json.gz’\n",
      "\n",
      "     0K .......... .......... .......... .......... .......... 12% 33.6M 0s\n",
      "    50K .......... .......... .......... .......... .......... 25% 28.5M 0s\n",
      "   100K .......... .......... .......... .......... .......... 38% 39.9M 0s\n",
      "   150K .......... .......... .......... .......... .......... 50% 31.0M 0s\n",
      "   200K .......... .......... .......... .......... .......... 63% 93.3M 0s\n",
      "   250K .......... .......... .......... .......... .......... 76%  368M 0s\n",
      "   300K .......... .......... .......... .......... .......... 89% 35.2M 0s\n",
      "   350K .......... .......... .......... .......... ...       100%  114M=0.008s\n",
      "\n",
      "2019-06-11 08:40:34 (45.8 MB/s) - ‘./pw-data/practices.json.gz’ saved [402461/402461]\n",
      "\n"
     ]
    }
   ],
   "source": [
    "%%bash\n",
    "mkdir pw-data\n",
    "wget http://dataincubator-wqu.s3.amazonaws.com/pwdata/201701scripts_sample.json.gz -nc -P ./pw-data\n",
    "wget http://dataincubator-wqu.s3.amazonaws.com/pwdata/practices.json.gz -nc -P ./pw-data"
   ]
  },
  {
   "cell_type": "markdown",
   "metadata": {},
   "source": [
    "## Loading the data\n",
    "\n",
    "The first step of the project is to read in the data. We will discuss reading and writing various kinds of files later in the course, but the code below should get you started."
   ]
  },
  {
   "cell_type": "code",
   "execution_count": 3,
   "metadata": {},
   "outputs": [],
   "source": [
    "import gzip\n",
    "import simplejson as json"
   ]
  },
  {
   "cell_type": "code",
   "execution_count": 4,
   "metadata": {},
   "outputs": [],
   "source": [
    "with gzip.open('./pw-data/201701scripts_sample.json.gz', 'rb') as f:\n",
    "    scripts = json.load(f)\n",
    "\n",
    "with gzip.open('./pw-data/practices.json.gz', 'rb') as f:\n",
    "    practices = json.load(f)"
   ]
  },
  {
   "cell_type": "markdown",
   "metadata": {},
   "source": [
    "This data set comes from Britain's National Health Service. The `scripts` variable is a list of prescriptions issued by NHS doctors. Each prescription is represented by a dictionary with various data fields: `'practice'`, `'bnf_code'`, `'bnf_name'`, `'quantity'`, `'items'`, `'nic'`, and `'act_cost'`. "
   ]
  },
  {
   "cell_type": "code",
   "execution_count": 5,
   "metadata": {},
   "outputs": [
    {
     "data": {
      "text/plain": [
       "[{'bnf_code': '0101010G0AAABAB',\n",
       "  'items': 2,\n",
       "  'practice': 'N81013',\n",
       "  'bnf_name': 'Co-Magaldrox_Susp 195mg/220mg/5ml S/F',\n",
       "  'nic': 5.98,\n",
       "  'act_cost': 5.56,\n",
       "  'quantity': 1000},\n",
       " {'bnf_code': '0101021B0AAAHAH',\n",
       "  'items': 1,\n",
       "  'practice': 'N81013',\n",
       "  'bnf_name': 'Alginate_Raft-Forming Oral Susp S/F',\n",
       "  'nic': 1.95,\n",
       "  'act_cost': 1.82,\n",
       "  'quantity': 500}]"
      ]
     },
     "execution_count": 5,
     "metadata": {},
     "output_type": "execute_result"
    }
   ],
   "source": [
    "scripts[:2]"
   ]
  },
  {
   "cell_type": "markdown",
   "metadata": {},
   "source": [
    "A [glossary of terms](http://webarchive.nationalarchives.gov.uk/20180328130852tf_/http://content.digital.nhs.uk/media/10686/Download-glossary-of-terms-for-GP-prescribing---presentation-level/pdf/PLP_Presentation_Level_Glossary_April_2015.pdf/) and [FAQ](http://webarchive.nationalarchives.gov.uk/20180328130852tf_/http://content.digital.nhs.uk/media/10048/FAQs-Practice-Level-Prescribingpdf/pdf/PLP_FAQs_April_2015.pdf/) is available from the NHS regarding the data. Below we supply a data dictionary briefly describing what these fields mean.\n",
    "\n",
    "| Data field |Description|\n",
    "|:----------:|-----------|\n",
    "|`'practice'`|Code designating the medical practice issuing the prescription|\n",
    "|`'bnf_code'`|British National Formulary drug code|\n",
    "|`'bnf_name'`|British National Formulary drug name|\n",
    "|`'quantity'`|Number of capsules/quantity of liquid/grams of powder prescribed|\n",
    "| `'items'`  |Number of refills (e.g. if `'quantity'` is 30 capsules, 3 `'items'` means 3 bottles of 30 capsules)|\n",
    "|  `'nic'`   |Net ingredient cost|\n",
    "|`'act_cost'`|Total cost including containers, fees, and discounts|"
   ]
  },
  {
   "cell_type": "markdown",
   "metadata": {},
   "source": [
    "The `practices` variable is a list of member medical practices of the NHS. Each practice is represented by a dictionary containing identifying information for the medical practice. Most of the data fields are self-explanatory. Notice the values in the `'code'` field of `practices` match the values in the `'practice'` field of `scripts`."
   ]
  },
  {
   "cell_type": "code",
   "execution_count": 6,
   "metadata": {},
   "outputs": [
    {
     "data": {
      "text/plain": [
       "[{'code': 'A81001',\n",
       "  'name': 'THE DENSHAM SURGERY',\n",
       "  'addr_1': 'THE HEALTH CENTRE',\n",
       "  'addr_2': 'LAWSON STREET',\n",
       "  'borough': 'STOCKTON ON TEES',\n",
       "  'village': 'CLEVELAND',\n",
       "  'post_code': 'TS18 1HU'},\n",
       " {'code': 'A81002',\n",
       "  'name': 'QUEENS PARK MEDICAL CENTRE',\n",
       "  'addr_1': 'QUEENS PARK MEDICAL CTR',\n",
       "  'addr_2': 'FARRER STREET',\n",
       "  'borough': 'STOCKTON ON TEES',\n",
       "  'village': 'CLEVELAND',\n",
       "  'post_code': 'TS18 2AW'}]"
      ]
     },
     "execution_count": 6,
     "metadata": {},
     "output_type": "execute_result"
    }
   ],
   "source": [
    "practices[:2]"
   ]
  },
  {
   "cell_type": "markdown",
   "metadata": {},
   "source": [
    "In the following questions we will ask you to explore this data set. You may need to combine pieces of the data set together in order to answer some questions. Not every element of the data set will be used in answering the questions."
   ]
  },
  {
   "cell_type": "markdown",
   "metadata": {},
   "source": [
    "## Question 1: summary_statistics\n",
    "\n",
    "Our beneficiary data (`scripts`) contains quantitative data on the number of items dispensed (`'items'`), the total quantity of item dispensed (`'quantity'`), the net cost of the ingredients (`'nic'`), and the actual cost to the patient (`'act_cost'`). Whenever working with a new data set, it can be useful to calculate summary statistics to develop a feeling for the volume and character of the data. This makes it easier to spot trends and significant features during further stages of analysis.\n",
    "\n",
    "Calculate the sum, mean, standard deviation, and quartile statistics for each of these quantities. Format your results for each quantity as a list: `[sum, mean, standard deviation, 1st quartile, median, 3rd quartile]`. We'll create a `tuple` with these lists for each quantity as a final result."
   ]
  },
  {
   "cell_type": "code",
   "execution_count": 7,
   "metadata": {},
   "outputs": [],
   "source": [
    "import math\n",
    "def describe(key):\n",
    "    ctr=0\n",
    "    l=[]\n",
    "    total=0\n",
    "    var=0\n",
    "    for i in scripts:\n",
    "        l.append(i[key])\n",
    "        total+=i[key]\n",
    "        ctr+=1\n",
    "    avg = total/ctr\n",
    "    for i in scripts:\n",
    "        var+=(avg-i[key])**2\n",
    "    s = (var/ctr)**0.5\n",
    "    l.sort()\n",
    "    med = l[math.floor(ctr/2)]\n",
    "    q25 = l[math.floor(ctr/4)]\n",
    "    q75 = l[math.floor(ctr*3/4)]\n",
    "\n",
    "    return (total, avg, s, q25, med, q75)"
   ]
  },
  {
   "cell_type": "code",
   "execution_count": 8,
   "metadata": {},
   "outputs": [],
   "source": [
    "summary = [('items', describe('items')),\n",
    "           ('quantity', describe('quantity')),\n",
    "           ('nic', describe('nic')),\n",
    "           ('act_cost', describe('act_cost'))]"
   ]
  },
  {
   "cell_type": "code",
   "execution_count": 330,
   "metadata": {},
   "outputs": [
    {
     "name": "stdout",
     "output_type": "stream",
     "text": [
      "4410054\n"
     ]
    }
   ],
   "source": [
    "print (summary[0][1][0])"
   ]
  },
  {
   "cell_type": "code",
   "execution_count": 9,
   "metadata": {},
   "outputs": [
    {
     "name": "stdout",
     "output_type": "stream",
     "text": [
      "==================\n",
      "Your score:  1.0\n",
      "==================\n"
     ]
    }
   ],
   "source": [
    "grader.score.pw__summary_statistics(summary)"
   ]
  },
  {
   "cell_type": "markdown",
   "metadata": {},
   "source": [
    "## Question 2: most_common_item\n",
    "\n",
    "Often we are not interested only in how the data is distributed in our entire data set, but within particular groups -- for example, how many items of each drug (i.e. `'bnf_name'`) were prescribed? Calculate the total items prescribed for each `'bnf_name'`. What is the most commonly prescribed `'bnf_name'` in our data?\n",
    "\n",
    "To calculate this, we first need to split our data set into groups corresponding with the different values of `'bnf_name'`. Then we can sum the number of items dispensed within in each group. Finally we can find the largest sum.\n",
    "\n",
    "We'll use `'bnf_name'` to construct our groups. You should have *5619* unique values for `'bnf_name'`."
   ]
  },
  {
   "cell_type": "code",
   "execution_count": 10,
   "metadata": {},
   "outputs": [],
   "source": [
    "bnf_names = {}\n",
    "\n",
    "for i in scripts:\n",
    "    key=i['bnf_name']\n",
    "    if key in bnf_names:\n",
    "        bnf_names[key].append(i)\n",
    "    else:\n",
    "        bnf_names[key]=[i]\n",
    "assert(len(bnf_names) == 5619)"
   ]
  },
  {
   "cell_type": "markdown",
   "metadata": {},
   "source": [
    "We want to construct \"groups\" identified by `'bnf_name'`, where each group is a collection of prescriptions (i.e. dictionaries from `scripts`). We'll construct a dictionary called `groups`, using `bnf_names` as the keys. We'll represent a group with a `list`, since we can easily append new members to the group. To split our `scripts` into groups by `'bnf_name'`, we should iterate over `scripts`, appending prescription dictionaries to each group as we encounter them."
   ]
  },
  {
   "cell_type": "code",
   "execution_count": 11,
   "metadata": {},
   "outputs": [],
   "source": [
    "\"\"\"groups = {name: [] for name in bnf_names}\n",
    "for script in scripts:\n",
    "    groups[script['bnf_name']].append(script)  \"\"\"\n",
    "groups=bnf_names"
   ]
  },
  {
   "cell_type": "markdown",
   "metadata": {},
   "source": [
    "Now that we've constructed our groups we should sum up `'items'` in each group and find the `'bnf_name'` with the largest sum. The result, `max_item`, should have the form `[(bnf_name, item total)]`, e.g. `[('Foobar', 2000)]`."
   ]
  },
  {
   "cell_type": "code",
   "execution_count": 12,
   "metadata": {},
   "outputs": [],
   "source": [
    "item=[]\n",
    "for i in groups.keys():\n",
    "    sum1=0\n",
    "    for j in groups[i]:\n",
    "        sum1+=j['items']\n",
    "    item.append((sum1,i))\n",
    "max_item = [max(item)[::-1]]"
   ]
  },
  {
   "cell_type": "code",
   "execution_count": 33,
   "metadata": {},
   "outputs": [
    {
     "data": {
      "text/plain": [
       "[(86, 'Co-Magaldrox_Susp 195mg/220mg/5ml S/F'),\n",
       " (392, 'Alginate_Raft-Forming Oral Susp S/F'),\n",
       " (2636, 'Sod Algin/Pot Bicarb_Susp S/F'),\n",
       " (200, 'Sod Alginate/Pot Bicarb_Tab Chble 500mg'),\n",
       " (1978, 'Gaviscon Infant_Sach 2g (Dual Pack) S/F'),\n",
       " (5568, 'Gaviscon Advance_Liq (Aniseed) (Reckitt)'),\n",
       " (1078, 'Gaviscon Advance_Tab Chble Mint(Reckitt)'),\n",
       " (3443, 'Gaviscon Advance_Liq (Peppermint) S/F'),\n",
       " (3162, 'Peptac_Liq (Peppermint) S/F'),\n",
       " (776, 'Alverine Cit_Cap 60mg')]"
      ]
     },
     "execution_count": 33,
     "metadata": {},
     "output_type": "execute_result"
    }
   ],
   "source": [
    "item[:10]"
   ]
  },
  {
   "cell_type": "markdown",
   "metadata": {},
   "source": [
    "**TIP:** If you are getting an error from the grader below, please make sure your answer conforms to the correct format of `[(bnf_name, item total)]`."
   ]
  },
  {
   "cell_type": "code",
   "execution_count": 13,
   "metadata": {},
   "outputs": [
    {
     "name": "stdout",
     "output_type": "stream",
     "text": [
      "==================\n",
      "Your score:  1.0\n",
      "==================\n"
     ]
    }
   ],
   "source": [
    "grader.score.pw__most_common_item(max_item)"
   ]
  },
  {
   "cell_type": "markdown",
   "metadata": {},
   "source": [
    "**Challenge:** Write a function that constructs groups as we did above. The function should accept a list of dictionaries (e.g. `scripts` or `practices`) and a tuple of fields to `groupby` (e.g. `('bnf_name')` or `('bnf_name', 'post_code')`) and returns a dictionary of groups. The following questions will require you to aggregate data in groups, so this could be a useful function for the rest of the miniproject."
   ]
  },
  {
   "cell_type": "code",
   "execution_count": 78,
   "metadata": {},
   "outputs": [],
   "source": [
    "def group_by_field(data, fields):\n",
    "    groups_dic={}\n",
    "    for field in fields:\n",
    "        groups = {}\n",
    "        for i in data:\n",
    "            key=i['%s'%(field)]\n",
    "            if key in groups:\n",
    "                groups[key].append(i)\n",
    "            else:\n",
    "                groups[key]=[i]\n",
    "        groups_dic['%s'%(field)]=groups\n",
    "    return groups_dic"
   ]
  },
  {
   "cell_type": "code",
   "execution_count": 79,
   "metadata": {},
   "outputs": [],
   "source": [
    "groups = group_by_field(scripts, ('bnf_name',))\n",
    "item=[]\n",
    "for k in groups.keys():\n",
    "    for i in groups[k].keys():\n",
    "        sum1=0\n",
    "        for j in groups[k][i]:\n",
    "            sum1+=j['items']\n",
    "        item.append((sum1,i))\n",
    "    test_max_item = [max(item)[::-1]]\n",
    "\n",
    "\n",
    "assert test_max_item == max_item"
   ]
  },
  {
   "cell_type": "markdown",
   "metadata": {},
   "source": [
    "## Question 3: postal_totals\n",
    "\n",
    "Our data set is broken up among different files. This is typical for tabular data to reduce redundancy. Each table typically contains data about a particular type of event, processes, or physical object. Data on prescriptions and medical practices are in separate files in our case. If we want to find the total items prescribed in each postal code, we will have to _join_ our prescription data (`scripts`) to our clinic data (`practices`).\n",
    "\n",
    "Find the total items prescribed in each postal code, representing the results as a list of tuples `(post code, total items prescribed)`. Sort your results ascending alphabetically by post code and take only results from the first 100 post codes. Only include post codes if there is at least one prescription from a practice in that post code.\n",
    "\n",
    "**NOTE:** Some practices have multiple postal codes associated with them. Use the alphabetically first postal code."
   ]
  },
  {
   "cell_type": "markdown",
   "metadata": {},
   "source": [
    "We can join `scripts` and `practices` based on the fact that `'practice'` in `scripts` matches `'code'` in `practices'`. However, we must first deal with the repeated values of `'code'` in `practices`. We want the alphabetically first postal codes."
   ]
  },
  {
   "cell_type": "code",
   "execution_count": 16,
   "metadata": {},
   "outputs": [],
   "source": [
    "practice_postal = {}\n",
    "for practice in practices:\n",
    "    if practice['code'] in practice_postal:\n",
    "        if (practice_postal[practice['code']]>practice['post_code']):\n",
    "            practice_postal[practice['code']]=practice['post_code']\n",
    "    else:\n",
    "        practice_postal[practice['code']] = practice['post_code']"
   ]
  },
  {
   "cell_type": "markdown",
   "metadata": {},
   "source": [
    "**Challenge:** This is an aggregation of the practice data grouped by practice codes. Write an alternative implementation of the above cell using the `group_by_field` function you defined previously."
   ]
  },
  {
   "cell_type": "code",
   "execution_count": 17,
   "metadata": {},
   "outputs": [],
   "source": [
    "assert practice_postal['K82019'] == 'HP21 8TR'"
   ]
  },
  {
   "cell_type": "markdown",
   "metadata": {},
   "source": [
    "**Challenge:** This is an aggregation of the practice data grouped by practice codes. Write an alternative implementation of the above cell using the `group_by_field` function you defined previously."
   ]
  },
  {
   "cell_type": "code",
   "execution_count": 18,
   "metadata": {},
   "outputs": [],
   "source": [
    "assert practice_postal['K82019'] == 'HP21 8TR'"
   ]
  },
  {
   "cell_type": "markdown",
   "metadata": {},
   "source": [
    "Now we can join `practice_postal` to `scripts`."
   ]
  },
  {
   "cell_type": "code",
   "execution_count": 19,
   "metadata": {},
   "outputs": [],
   "source": [
    "joined = scripts[:]\n",
    "for script in joined:\n",
    "    if script['practice'] in practice_postal.keys():\n",
    "        script['post_code'] = practice_postal[script['practice']]"
   ]
  },
  {
   "cell_type": "markdown",
   "metadata": {},
   "source": [
    "Finally we'll group the prescription dictionaries in `joined` by `'post_code'` and sum up the items prescribed in each group, as we did in the previous question."
   ]
  },
  {
   "cell_type": "code",
   "execution_count": 20,
   "metadata": {},
   "outputs": [],
   "source": [
    "items_by_post = group_by_field(scripts, ('post_code',))\n",
    "postal_totals= []\n",
    "for k in items_by_post.keys():\n",
    "    for i in items_by_post[k].keys():\n",
    "        sum1=0\n",
    "        for j in items_by_post[k][i]:\n",
    "            sum1+=j['items']\n",
    "        postal_totals.append((sum1,i))"
   ]
  },
  {
   "cell_type": "code",
   "execution_count": 21,
   "metadata": {},
   "outputs": [],
   "source": [
    "items_by_post_1 ={}\n",
    "for i in scripts:\n",
    "    key=i['post_code']\n",
    "    if key in items_by_post_1:\n",
    "        items_by_post_1[key].append(i)\n",
    "    else:\n",
    "        items_by_post_1[key]=[i]\n",
    "groups=items_by_post_1        \n",
    "postal_total1=[]\n",
    "for i in groups.keys():\n",
    "    sum1=0\n",
    "    for j in groups[i]:\n",
    "        sum1+=j['items']\n",
    "    if (sum1)!=0:\n",
    "        postal_total1.append((i,sum1))"
   ]
  },
  {
   "cell_type": "code",
   "execution_count": 22,
   "metadata": {},
   "outputs": [],
   "source": [
    "practice_postal = {}\n",
    "for practice in practices:\n",
    "    if practice['code'] in practice_postal:\n",
    "        if (practice_postal[practice['code']]>practice['post_code']):\n",
    "            practice_postal[practice['code']]=practice['post_code']\n",
    "    else:\n",
    "        practice_postal[practice['code']] = practice['post_code']\n",
    "\n",
    "joined = scripts[:]\n",
    "for script in joined:\n",
    "    if script['practice'] in practice_postal.keys():\n",
    "        script['post_code'] = practice_postal[script['practice']]\n",
    "\n",
    "prescriptionByPostCode = {}\n",
    "for element in joined:\n",
    "    if element['post_code'] not in prescriptionByPostCode:\n",
    "       prescriptionByPostCode[element['post_code']] = [element['items']]\n",
    "    else:\n",
    "        prescriptionByPostCode[element['post_code']].append(element['items'])\n",
    "\n",
    "items_by_post = [sum(prescriptionByPostCode[x]) for x in prescriptionByPostCode]\n",
    "keys = list(prescriptionByPostCode.keys())\n",
    "pairs = list(zip(keys, items_by_post))\n",
    "pairs.sort()\n",
    "items_by_post = []\n",
    "for pair in pairs:\n",
    "    if pair[1] > 0:\n",
    "        items_by_post.append(pair)            "
   ]
  },
  {
   "cell_type": "code",
   "execution_count": 23,
   "metadata": {},
   "outputs": [
    {
     "name": "stdout",
     "output_type": "stream",
     "text": [
      "==================\n",
      "Your score:  1.0\n",
      "==================\n"
     ]
    }
   ],
   "source": [
    "grader.score.pw__postal_totals(items_by_post[:100])"
   ]
  },
  {
   "cell_type": "code",
   "execution_count": 28,
   "metadata": {},
   "outputs": [
    {
     "name": "stdout",
     "output_type": "stream",
     "text": [
      "==================\n",
      "Your score:  1.0\n",
      "==================\n"
     ]
    }
   ],
   "source": [
    "(postal_total1).sort()\n",
    "postal_sorted=(postal_total1)[:100]\n",
    "#print (postal_sorted[:100][::-1])\n",
    "#postal_total = [(j,i) for i,j in (postal_sorted[::-1][:100])]\n",
    "\n",
    "grader.score.pw__postal_totals(postal_sorted)"
   ]
  },
  {
   "cell_type": "code",
   "execution_count": 334,
   "metadata": {},
   "outputs": [
    {
     "name": "stdout",
     "output_type": "stream",
     "text": [
      "[('B11 4BW', 20673), ('B18 7AL', 19001), ('B21 9RY', 29103), ('B23 6DJ', 24859), ('B70 7AW', 36531), ('BB11 2DL', 34356), ('BB2 1AX', 28254), ('BB3 1PY', 54514), ('BB4 5SL', 29388), ('BB7 2JG', 44585), ('BB8 0JZ', 54380), ('BB9 7SR', 38224), ('BD3 8QH', 21010), ('BH18 8EE', 39413), ('BH23 3AF', 32545), ('BL1 8TU', 26132), ('BL3 5HP', 27147), ('BL9 0NJ', 32062), ('BL9 0SN', 35275), ('CB9 8HF', 51337), ('CH1 4DS', 34915), ('CH65 6TG', 25090), ('CT11 8AD', 44358), ('CV1 4FS', 37210), ('CW1 3AW', 64104), ('CW5 5NX', 38797), ('CW7 1AT', 43164), ('DA1 2HA', 26075), ('DA11 8BZ', 24090), ('DN22 7XF', 43091), ('DN34 4GB', 48013), ('FY2 0JG', 69118), ('FY4 1TJ', 62886), ('FY5 2TZ', 44258), ('FY7 8GU', 34473), ('GL1 3PX', 38120), ('GL50 4DP', 74822), ('GU9 9QS', 32131), ('HA0 4UZ', 22755), ('HA3 7LT', 32113), ('HG1 5AR', 32684), ('HU7 4DW', 49107), ('KT14 6DH', 26758), ('KT6 6EZ', 38975), ('L31 0DJ', 32065), ('L36 7XY', 22965), ('L5 0QW', 24676), ('L7 6HD', 42569), ('LA1 1PN', 47335), ('LE10 1DS', 49335), ('LE18 2EW', 37144), ('LE5 3GH', 28654), ('LN2 2JP', 46173), ('LS9 9EF', 48051), ('M11 4EJ', 23166), ('M26 2SP', 37718), ('M30 0NU', 25597), ('M35 0AD', 37632), ('ME8 8AA', 25257), ('N9 7HD', 30706), ('NE10 9QG', 39882), ('NE24 1DX', 50491), ('NE37 2PU', 57500), ('NE38 7NQ', 52803), ('NG7 3GW', 17698), ('NG7 5HY', 24903), ('NN16 8DN', 50771), ('NW10 8RY', 21553), ('OL1 1NL', 41046), ('OL11 1DN', 21567), ('OL4 1YN', 24687), ('OL9 7AY', 28394), ('PL7 1AD', 65051), ('RM3 9SU', 25476), ('S63 9EH', 34787), ('S65 1DA', 71683), ('S74 9AF', 55305), ('SE1 6JP', 45030), ('SE15 5LJ', 15258), ('SK11 6JL', 110071), ('SK6 1ND', 28313), ('SM3 8EP', 24965), ('SM6 0HY', 46016), ('SR4 7XF', 49843), ('SR5 2LT', 44895), ('SS0 7AF', 21569), ('SS13 3HQ', 38513), ('SS8 0JA', 45848), ('SS9 5UU', 26095), ('ST1 4PB', 24227), ('ST3 6AB', 38705), ('ST8 6AG', 34516), ('TN24 0GP', 16955), ('TN34 1BA', 47440), ('TR1 2JA', 40194), ('TS1 2NX', 47623), ('TS10 4NW', 45161), ('TS17 0EE', 68388), ('TS23 2DG', 31646), ('TS24 7PW', 58207)]\n",
      "[('B11 4BW', 20673), ('B18 7AL', 19001), ('B21 9RY', 29103), ('B23 6DJ', 24859), ('B70 7AW', 36531), ('BB11 2DL', 34356), ('BB2 1AX', 28254), ('BB3 1PY', 54514), ('BB4 5SL', 29388), ('BB7 2JG', 44585), ('BB8 0JZ', 54380), ('BB9 7SR', 38224), ('BD3 8QH', 21010), ('BH18 8EE', 39413), ('BH23 3AF', 32545), ('BL1 8TU', 26132), ('BL3 5HP', 27147), ('BL9 0NJ', 32062), ('BL9 0SN', 35275), ('CB9 8HF', 51337), ('CH1 4DS', 34915), ('CH65 6TG', 25090), ('CT11 8AD', 44358), ('CV1 4FS', 37210), ('CW1 3AW', 64104), ('CW5 5NX', 38797), ('CW7 1AT', 43164), ('DA1 2HA', 26075), ('DA11 8BZ', 24090), ('DN22 7XF', 43091), ('DN34 4GB', 48013), ('FY2 0JG', 69118), ('FY4 1TJ', 62886), ('FY5 2TZ', 44258), ('FY7 8GU', 34473), ('GL1 3PX', 38120), ('GL50 4DP', 74822), ('GU9 9QS', 32131), ('HA0 4UZ', 22755), ('HA3 7LT', 32113), ('HG1 5AR', 32684), ('HU7 4DW', 49107), ('KT14 6DH', 26758), ('KT6 6EZ', 38975), ('L31 0DJ', 32065), ('L36 7XY', 22965), ('L5 0QW', 24676), ('L7 6HD', 42569), ('LA1 1PN', 47335), ('LE10 1DS', 49335), ('LE18 2EW', 37144), ('LE5 3GH', 28654), ('LN2 2JP', 46173), ('LS9 9EF', 48051), ('M11 4EJ', 23166), ('M26 2SP', 37718), ('M30 0NU', 25597), ('M35 0AD', 37632), ('ME8 8AA', 25257), ('N9 7HD', 30706), ('NE10 9QG', 39882), ('NE24 1DX', 50491), ('NE37 2PU', 57500), ('NE38 7NQ', 52803), ('NG7 3GW', 17698), ('NG7 5HY', 24903), ('NN16 8DN', 50771), ('NW10 8RY', 21553), ('OL1 1NL', 41046), ('OL11 1DN', 21567), ('OL4 1YN', 24687), ('OL9 7AY', 28394), ('PL7 1AD', 65051), ('RM3 9SU', 25476), ('S63 9EH', 34787), ('S65 1DA', 71683), ('S74 9AF', 55305), ('SE1 6JP', 45030), ('SE15 5LJ', 15258), ('SK11 6JL', 110071), ('SK6 1ND', 28313), ('SM3 8EP', 24965), ('SM6 0HY', 46016), ('SR4 7XF', 49843), ('SR5 2LT', 44895), ('SS0 7AF', 21569), ('SS13 3HQ', 38513), ('SS8 0JA', 45848), ('SS9 5UU', 26095), ('ST1 4PB', 24227), ('ST3 6AB', 38705), ('ST8 6AG', 34516), ('TN24 0GP', 16955), ('TN34 1BA', 47440), ('TR1 2JA', 40194), ('TS1 2NX', 47623), ('TS10 4NW', 45161), ('TS17 0EE', 68388), ('TS23 2DG', 31646), ('TS24 7PW', 58207)]\n",
      "3858014\n"
     ]
    }
   ],
   "source": [
    "print(items_by_post[:100])\n",
    "print(postal_sorted)\n",
    "sum1=0\n",
    "for i in postal_sorted:\n",
    "    sum1+=i[1]\n",
    "print (sum1)"
   ]
  },
  {
   "cell_type": "markdown",
   "metadata": {},
   "source": [
    "## Question 4: items_by_region\n",
    "\n",
    "Now we'll combine the techniques we've developed to answer a more complex question. Find the most commonly dispensed item in each postal code, representing the results as a list of tuples (`post_code`, `bnf_name`, amount dispensed as proportion of total). Sort your results ascending alphabetically by post code and take only results from the first 100 post codes.\n",
    "\n",
    "**NOTE:** We'll continue to use the `joined` variable we created before, where we've chosen the alphabetically first postal code for each practice. Additionally, some postal codes will have multiple `'bnf_name'` with the same number of items prescribed for the maximum. In this case, we'll take the alphabetically first `'bnf_name'`."
   ]
  },
  {
   "cell_type": "markdown",
   "metadata": {},
   "source": [
    "Now we need to calculate the total items of each `'bnf_name'` prescribed in each `'post_code'`. Use the techniques we developed in the previous questions to calculate these totals. You should have 141196 `('post_code', 'bnf_name')` groups."
   ]
  },
  {
   "cell_type": "code",
   "execution_count": 30,
   "metadata": {},
   "outputs": [
    {
     "data": {
      "text/plain": [
       "[{'bnf_code': '0101010G0AAABAB',\n",
       "  'items': 2,\n",
       "  'practice': 'N81013',\n",
       "  'bnf_name': 'Co-Magaldrox_Susp 195mg/220mg/5ml S/F',\n",
       "  'nic': 5.98,\n",
       "  'act_cost': 5.56,\n",
       "  'quantity': 1000,\n",
       "  'post_code': 'SK11 6JL'},\n",
       " {'bnf_code': '0101021B0AAAHAH',\n",
       "  'items': 1,\n",
       "  'practice': 'N81013',\n",
       "  'bnf_name': 'Alginate_Raft-Forming Oral Susp S/F',\n",
       "  'nic': 1.95,\n",
       "  'act_cost': 1.82,\n",
       "  'quantity': 500,\n",
       "  'post_code': 'SK11 6JL'}]"
      ]
     },
     "execution_count": 30,
     "metadata": {},
     "output_type": "execute_result"
    }
   ],
   "source": [
    "joined[:2]"
   ]
  },
  {
   "cell_type": "code",
   "execution_count": 86,
   "metadata": {},
   "outputs": [
    {
     "name": "stdout",
     "output_type": "stream",
     "text": [
      "dict_keys(['post_code'])\n",
      "118\n"
     ]
    },
    {
     "ename": "NameError",
     "evalue": "name 'bnf_name' is not defined",
     "output_type": "error",
     "traceback": [
      "\u001b[0;31m---------------------------------------------------------------------------\u001b[0m",
      "\u001b[0;31mNameError\u001b[0m                                 Traceback (most recent call last)",
      "\u001b[0;32m<ipython-input-86-a2c1b1312a03>\u001b[0m in \u001b[0;36m<module>\u001b[0;34m()\u001b[0m\n\u001b[1;32m      3\u001b[0m \u001b[0mprint\u001b[0m \u001b[0;34m(\u001b[0m\u001b[0mlen\u001b[0m\u001b[0;34m(\u001b[0m\u001b[0mpost_code\u001b[0m\u001b[0;34m[\u001b[0m\u001b[0;34m'post_code'\u001b[0m\u001b[0;34m]\u001b[0m\u001b[0;34m)\u001b[0m\u001b[0;34m)\u001b[0m\u001b[0;34m\u001b[0m\u001b[0m\n\u001b[1;32m      4\u001b[0m \u001b[0mitem\u001b[0m\u001b[0;34m=\u001b[0m\u001b[0;34m[\u001b[0m\u001b[0;34m]\u001b[0m\u001b[0;34m\u001b[0m\u001b[0m\n\u001b[0;32m----> 5\u001b[0;31m \u001b[0;32mfor\u001b[0m \u001b[0mk\u001b[0m \u001b[0;32min\u001b[0m \u001b[0mbnf_name\u001b[0m\u001b[0;34m.\u001b[0m\u001b[0mkeys\u001b[0m\u001b[0;34m(\u001b[0m\u001b[0;34m)\u001b[0m\u001b[0;34m:\u001b[0m\u001b[0;34m\u001b[0m\u001b[0m\n\u001b[0m\u001b[1;32m      6\u001b[0m     \u001b[0msum2\u001b[0m\u001b[0;34m=\u001b[0m\u001b[0;36m0\u001b[0m\u001b[0;34m\u001b[0m\u001b[0m\n\u001b[1;32m      7\u001b[0m     \u001b[0;32mfor\u001b[0m \u001b[0mi\u001b[0m \u001b[0;32min\u001b[0m \u001b[0mbnf_name\u001b[0m\u001b[0;34m[\u001b[0m\u001b[0mk\u001b[0m\u001b[0;34m]\u001b[0m\u001b[0;34m.\u001b[0m\u001b[0mkeys\u001b[0m\u001b[0;34m(\u001b[0m\u001b[0;34m)\u001b[0m\u001b[0;34m:\u001b[0m\u001b[0;34m\u001b[0m\u001b[0m\n",
      "\u001b[0;31mNameError\u001b[0m: name 'bnf_name' is not defined"
     ]
    }
   ],
   "source": [
    "post_code=group_by_field(joined, ('post_code',))\n",
    "print (post_code.keys())\n",
    "print (len(post_code['post_code']))\n",
    "item=[]\n",
    "for k in bnf_name.keys():\n",
    "    sum2=0\n",
    "    for i in bnf_name[k].keys():\n",
    "        sum1=0\n",
    "        for j in bnf_name[k][i]:\n",
    "            sum1+=j['items']\n",
    "        item.append((sum1,i))\n",
    "        sum2+=sum1\n",
    "    print (sum2)\n",
    "#bnf_name=group_by_field(joined,('bnf_name',))"
   ]
  },
  {
   "cell_type": "code",
   "execution_count": 111,
   "metadata": {},
   "outputs": [],
   "source": [
    "bnf_names = {}\n",
    "for i in joined:\n",
    "    key=i['bnf_name']\n",
    "    key2=i['post_code']\n",
    "    if (key,key2) in bnf_names:\n",
    "        bnf_names[(key,key2)].append(i)\n",
    "    else:\n",
    "        bnf_names[(key,key2)]=[i]\n",
    "groups=bnf_names\n",
    "item=[]\n",
    "for i,j in groups.keys():\n",
    "    sum1=0\n",
    "    for k in groups[(i,j)]:\n",
    "        sum1+=k['items']\n",
    "    item.append([j,i,sum1])"
   ]
  },
  {
   "cell_type": "code",
   "execution_count": 112,
   "metadata": {},
   "outputs": [],
   "source": [
    "total_items_by_bnf_post = item\n",
    "assert len(total_items_by_bnf_post) == 141196"
   ]
  },
  {
   "cell_type": "markdown",
   "metadata": {},
   "source": [
    "Let's use `total_by_item_post` to find the maximum item total for each postal code. To do this, we will want to regroup `total_by_item_post` by `'post_code'` only, not by `('post_code', 'bnf_name')`. First let's turn `total_by_item_post` into a list of dictionaries (similar to `scripts` or `practices`) and then group it by `'post_code'`. You should have 118 groups in `total_by_item_post` after grouping it by `'post_code'`."
   ]
  },
  {
   "cell_type": "code",
   "execution_count": 470,
   "metadata": {},
   "outputs": [],
   "source": [
    "def group_by_field2(data, fields):\n",
    "    groups_dic={}\n",
    "    for field in fields:\n",
    "        groups = {}\n",
    "        for i in data:\n",
    "            key=i['%s'%(field)]\n",
    "            if key in groups.keys():\n",
    "                flag=0\n",
    "                for name in range(len(groups[key])):\n",
    "                    if (groups[key][name][1]==i['bnf_name']):\n",
    "                        groups[key][name][0]+=i['items']\n",
    "                        flag=1\n",
    "                        break\n",
    "                if flag==0:\n",
    "                    groups[key].append([i['items'],i['bnf_name']])\n",
    "            else:\n",
    "                groups[key]=[[i['items'],i['bnf_name']]]\n",
    "        groups_dic['%s'%(field)]=groups\n",
    "        \n",
    "    return groups_dic"
   ]
  },
  {
   "cell_type": "code",
   "execution_count": 471,
   "metadata": {},
   "outputs": [],
   "source": [
    "total_items_by_post = group_by_field2(joined, ('post_code',))['post_code']\n",
    "assert len(total_items_by_post) == 118"
   ]
  },
  {
   "cell_type": "markdown",
   "metadata": {},
   "source": [
    "Now we will aggregate the groups in `total_by_item_post` to create `max_item_by_post`. Some `'bnf_name'` have the same item total within a given postal code. Therefore, if more than one `'bnf_name'` has the maximum item total in a given postal code, we'll take the alphabetically first `'bnf_name'`. We can do this by [sorting](https://docs.python.org/2.7/howto/sorting.html) each group according to the item total and `'bnf_name'`."
   ]
  },
  {
   "cell_type": "code",
   "execution_count": 474,
   "metadata": {},
   "outputs": [],
   "source": [
    "test=total_items_by_post"
   ]
  },
  {
   "cell_type": "code",
   "execution_count": 424,
   "metadata": {},
   "outputs": [],
   "source": [
    "for key in test:\n",
    "    test['%s'%key].sort(reverse=True)"
   ]
  },
  {
   "cell_type": "code",
   "execution_count": 500,
   "metadata": {},
   "outputs": [],
   "source": [
    "anslist=[]\n",
    "ctr=0\n",
    "total_items=items_by_post\n",
    "for key in sorted(list(test.keys())):\n",
    "    anslist.append((key,'%s'%max(test['%s'%key])[1],(max(test['%s'%key])[0]/total_items[ctr][1])))\n",
    "    ctr+=1\n",
    "anslist.sort()\n",
    "#anslist.append((key,test['%s'%key],max(test['%s'%key][])))----//total_items[ctr][1]"
   ]
  },
  {
   "cell_type": "code",
   "execution_count": 496,
   "metadata": {},
   "outputs": [],
   "source": [
    "list(test.keys()).sort()"
   ]
  },
  {
   "cell_type": "code",
   "execution_count": 484,
   "metadata": {},
   "outputs": [],
   "source": [
    "max_item_by_post = anslist[:100]"
   ]
  },
  {
   "cell_type": "markdown",
   "metadata": {},
   "source": [
    "In order to express the item totals as a proportion of the total amount of items prescribed across all `'bnf_name'` in a postal code, we'll need to use the total items prescribed that previously calculated as `items_by_post`. Calculate the proportions for the most common `'bnf_names'` for each postal code. Format your answer as a list of tuples: `[(post_code, bnf_name, total)]`"
   ]
  },
  {
   "cell_type": "code",
   "execution_count": 312,
   "metadata": {},
   "outputs": [],
   "source": [
    "items_by_region = [('B11 4BW', 'Salbutamol_Inha 100mcg (200 D) CFF', 0.0341508247)] * 100"
   ]
  },
  {
   "cell_type": "code",
   "execution_count": 501,
   "metadata": {},
   "outputs": [],
   "source": [
    "items_by_region = anslist[:100]"
   ]
  },
  {
   "cell_type": "code",
   "execution_count": 502,
   "metadata": {},
   "outputs": [
    {
     "name": "stdout",
     "output_type": "stream",
     "text": [
      "==================\n",
      "Your score:  1.0\n",
      "==================\n"
     ]
    }
   ],
   "source": [
    "grader.score.pw__items_by_region(items_by_region)"
   ]
  },
  {
   "cell_type": "markdown",
   "metadata": {},
   "source": [
    "*Copyright &copy; 2017 The Data Incubator.  All rights reserved.*"
   ]
  }
 ],
 "metadata": {
  "kernelspec": {
   "display_name": "Python 3",
   "language": "python",
   "name": "python3"
  },
  "language_info": {
   "codemirror_mode": {
    "name": "ipython",
    "version": 3
   },
   "file_extension": ".py",
   "mimetype": "text/x-python",
   "name": "python",
   "nbconvert_exporter": "python",
   "pygments_lexer": "ipython3",
   "version": "3.6.2"
  },
  "nbclean": true
 },
 "nbformat": 4,
 "nbformat_minor": 1
}
